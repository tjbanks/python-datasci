{
 "cells": [
  {
   "cell_type": "markdown",
   "metadata": {},
   "source": [
    "# Effective Python - 59 Specific Ways to Write Better Python. \n",
    "# *Chapter 7 - Collaboration*\n",
    "Book by Brett Slatkin. \n",
    "Summary notes by Tyler Banks."
   ]
  },
  {
   "cell_type": "markdown",
   "metadata": {},
   "source": [
    "## Item 49: Write Docstrings for Every Function, Class, and Module"
   ]
  },
  {
   "cell_type": "markdown",
   "metadata": {},
   "source": [
    "* You can add documentation by providing a docstring immediately after the def statement of a function"
   ]
  },
  {
   "cell_type": "code",
   "execution_count": 4,
   "metadata": {},
   "outputs": [
    {
     "name": "stdout",
     "output_type": "stream",
     "text": [
      "'Return True if the given word is a palindrome.'\n"
     ]
    }
   ],
   "source": [
    "def palindrome(word):\n",
    "    \"\"\"Return True if the given word is a palindrome.\"\"\"\n",
    "    return word == word[::-1]\n",
    "\n",
    "#Retrieve the docstring with __doc__\n",
    "print(repr(palindrome.__doc__))"
   ]
  },
  {
   "cell_type": "markdown",
   "metadata": {},
   "source": [
    "* See https://readthedocs.org for doc hosting\n",
    "\n",
    "#### Documenting Modules\n",
    "\n",
    "* Modules should have a top level docstring. Should be three double quotes to start and end (`\"\"\"`)\n",
    "* First line should be a single sentence describing modules purpose.\n",
    "* Paragrams following should detail everything the user should know\n",
    "* Ex:"
   ]
  },
  {
   "cell_type": "code",
   "execution_count": 11,
   "metadata": {},
   "outputs": [
    {
     "name": "stdout",
     "output_type": "stream",
     "text": [
      "\n"
     ]
    }
   ],
   "source": [
    "# words.py\n",
    "#!/usr/bin/env python3\n",
    "\"\"\"Library for testing words for various linguistic patterns.\n",
    "Testing how words relate to each other can be tricky sometimes!\n",
    "This module provides easy ways to determine when words you’ve\n",
    "found have special properties.\n",
    "Available functions:\n",
    "- palindrome: Determine if a word is a palindrome.\n",
    "- check_anagram: Determine if two words are anagrams.\n",
    "\"\"\"\n",
    "print()"
   ]
  },
  {
   "cell_type": "markdown",
   "metadata": {},
   "source": [
    "#### Documenting Classes\n",
    "\n",
    "* First line is the single sentence purpose of the class\n",
    "* Following classes should detail class operation\n",
    "* Important public attributes and methods should be highlighted in the docstring\n",
    "* Ex:"
   ]
  },
  {
   "cell_type": "code",
   "execution_count": 14,
   "metadata": {},
   "outputs": [],
   "source": [
    "class Player(object):\n",
    "    \"\"\"Represents a player of the game.\n",
    "    Subclasses may override the ‘tick’ method to provide\n",
    "    custom animations for the player’s movement depending\n",
    "    on their power level, etc.\n",
    "    Public attributes:\n",
    "    - power: Unused power-ups (float between 0 and 1).\n",
    "    - coins: Coins found during the level (integer).\n",
    "    \"\"\"\n",
    "    def __init__():\n",
    "        self._power = 0\n",
    "        self._coins = 0\n",
    "        return\n",
    "    \n",
    "    @property\n",
    "    def coins():\n",
    "        return self._coins\n",
    "    \n",
    "    @coins.setter\n",
    "    def coins(value):\n",
    "        if value < 0:\n",
    "            raise ValueError(\"Can't be less than 0\")\n",
    "        self._coins = value"
   ]
  },
  {
   "cell_type": "markdown",
   "metadata": {},
   "source": [
    "#### Documenting Functions\n",
    "\n",
    "* First line is a single sentence description\n",
    "* Paragrams following should describe behaviors and arguments for the funciton\n",
    "* Return values should be mentioned\n",
    "* Exceptions that callers must handle as part of the funciton's interface should be explained\n",
    "* Ex:"
   ]
  },
  {
   "cell_type": "code",
   "execution_count": 15,
   "metadata": {},
   "outputs": [],
   "source": [
    "def find_anagrams(word, dictionary):\n",
    "    \"\"\"Find all anagrams for a word.\n",
    "    \n",
    "    This function only runs as fast as the test for\n",
    "    membership in the ‘dictionary’ container. It will\n",
    "    be slow if the dictionary is a list and fast if\n",
    "    it’s a set.\n",
    "    \n",
    "    Args:\n",
    "        word: String of the target word.\n",
    "        dictionary: Container with all strings that\n",
    "            are known to be actual words.\n",
    "            \n",
    "    Returns:\n",
    "        List of anagrams that were found. Empty if\n",
    "        none were found.\n",
    "    \"\"\"\n",
    "    return"
   ]
  },
  {
   "cell_type": "markdown",
   "metadata": {},
   "source": [
    "* If function has no args a single sentence is good\n",
    "* If no return, leave it out, don't say returns None"
   ]
  },
  {
   "cell_type": "markdown",
   "metadata": {},
   "source": [
    "## Item 50: Use Packages to Organize Modules and Provide Stable APIs"
   ]
  },
  {
   "cell_type": "code",
   "execution_count": null,
   "metadata": {},
   "outputs": [],
   "source": []
  }
 ],
 "metadata": {
  "kernelspec": {
   "display_name": "Python 3",
   "language": "python",
   "name": "python3"
  },
  "language_info": {
   "codemirror_mode": {
    "name": "ipython",
    "version": 3
   },
   "file_extension": ".py",
   "mimetype": "text/x-python",
   "name": "python",
   "nbconvert_exporter": "python",
   "pygments_lexer": "ipython3",
   "version": "3.6.5"
  }
 },
 "nbformat": 4,
 "nbformat_minor": 2
}
