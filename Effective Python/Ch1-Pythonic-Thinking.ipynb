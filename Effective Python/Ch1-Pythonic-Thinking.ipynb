{
 "cells": [
  {
   "cell_type": "markdown",
   "metadata": {},
   "source": [
    "# Item 1: Know Which Version of Python You’re Using\n"
   ]
  },
  {
   "cell_type": "code",
   "execution_count": 1,
   "metadata": {},
   "outputs": [
    {
     "name": "stdout",
     "output_type": "stream",
     "text": [
      "sys.version_info(major=3, minor=6, micro=5, releaselevel='final', serial=0)\n",
      "3.6.5 |Anaconda, Inc.| (default, Mar 29 2018, 13:32:41) [MSC v.1900 64 bit (AMD64)]\n"
     ]
    }
   ],
   "source": [
    "import sys\n",
    "print(sys.version_info)\n",
    "print(sys.version)"
   ]
  },
  {
   "cell_type": "markdown",
   "metadata": {},
   "source": [
    "# Item 2: Follow the PEP 8 Style Guide\n",
    "http://www.python.org/dev/peps/pep-0008/"
   ]
  },
  {
   "cell_type": "markdown",
   "metadata": {},
   "source": [
    "Whitepaces\n",
    "* Use 4 whitespaces\n",
    "* Lines should be 79 characters or less\n",
    "* Continuation of long expressions should be intented by 4 extra spaces\n",
    "* Functions and classes shoulde be separated by two blank lines\n",
    "* In a class methods should be spearated by one blank\n",
    "* Don't put spaces around list indexes, function calls, args or assignments\n",
    "* Put one space before and after variable assignment\n",
    "\n",
    "Naming\n",
    "* Functions, variables and attributes should be in `lowercase_underscore` format\n",
    "* Protected instance attributes should be in `_leading_underscore` format.\n",
    "* Private instance attributes should be in `__double_leading_underscore` format\n",
    "* Classes and exceptions should be in `CapitalizedWord` format\n",
    "* Module constants should be in `ALL_CAPS` format\n",
    "* Instance methods in class should use `self` as the name of the first parameter, refering to the object\n",
    "* Class methods should use `cls` as the name of the first parameter, refering to the class\n",
    "\n",
    "Experessions and Statemens\n",
    "* Use inline negation (`if a is not b`) instead of negation positive statments (`if not a is b`)\n",
    "* Don't check for empyt values by checking length (`if len(alist) == 0`). Use `if not alist`\n",
    "* Avoid single line `if` statements, `for`, and `while` loops, and `except` statements. Spread over a series of lines.\n",
    "* Always put import statements at the top of a file\n",
    "* Always put absolute names for modules, not relative paths. (`from bar import foo`) not `import foo`\n",
    "* Imports should be in sections in the following order: Standard library modules, Third party modules, Your own modules. Subsections should be in alphabetical order\n",
    "\n",
    "See Pylint (http://www.pylint.org/) to analyze your source code and automatically fix it up!"
   ]
  },
  {
   "cell_type": "markdown",
   "metadata": {},
   "source": [
    "# Item 3: Know the Differences Between `bytes`, `str`, and `unicode`"
   ]
  },
  {
   "cell_type": "markdown",
   "metadata": {},
   "source": [
    "General Python 3\n",
    "* There are two types that represent sequences of characters: `bytes` and `str`\n",
    "* `bytes` contain raw 8-bit values, `str` contains unicode"
   ]
  },
  {
   "cell_type": "code",
   "execution_count": 13,
   "metadata": {},
   "outputs": [
    {
     "name": "stdout",
     "output_type": "stream",
     "text": [
      "this is text\n",
      "b'this is text'\n",
      "this is text\n",
      "False\n",
      "True\n"
     ]
    }
   ],
   "source": [
    "#Convert between str and bytes using encode and decode\n",
    "string = \"this is text\"\n",
    "print(string)\n",
    "\n",
    "bytes_ = string.encode('utf-8')\n",
    "print(\"{}\".format(bytes_))\n",
    "\n",
    "string1 = bytes_.decode('utf-8')\n",
    "print(string1)\n",
    "\n",
    "print(bytes == string)\n",
    "print(string == string1)"
   ]
  },
  {
   "cell_type": "markdown",
   "metadata": {},
   "source": [
    "* `bytes` and `str` are never equivilent\n",
    "* Files opened will default to UTF-8 encoding not binary\n",
    "* Use 'wb' to open binary files"
   ]
  },
  {
   "cell_type": "code",
   "execution_count": 15,
   "metadata": {},
   "outputs": [],
   "source": [
    "#with open('/tmp/random.bin', 'wb') as f:\n",
    "#    f.write(os.urandom(10))"
   ]
  },
  {
   "cell_type": "markdown",
   "metadata": {},
   "source": [
    "* `bytes` contain sequences of 8 bit values. `str` contains unicode. They can't be used together with operators like `>` or `+`"
   ]
  },
  {
   "cell_type": "markdown",
   "metadata": {},
   "source": [
    "# Item 4: Write Helper Functions Instead of Complex Expressions"
   ]
  },
  {
   "cell_type": "markdown",
   "metadata": {},
   "source": [
    "* Don't overcomplicate one line statements\n",
    "* Move complex expressions to helper functions, especially for repeated code\n",
    "* `if`/`else` is more readable than `or`/`and`"
   ]
  },
  {
   "cell_type": "code",
   "execution_count": 18,
   "metadata": {},
   "outputs": [
    {
     "name": "stdout",
     "output_type": "stream",
     "text": [
      "9\n",
      "0\n"
     ]
    }
   ],
   "source": [
    "#Example:\n",
    "my_values = {'red':[9,8,7]}\n",
    "print(my_values.get('red', [''])[0] or 0)\n",
    "print(my_values.get('blue', [''])[0] or 0)"
   ]
  },
  {
   "cell_type": "markdown",
   "metadata": {},
   "source": [
    "* Do something like this instead"
   ]
  },
  {
   "cell_type": "code",
   "execution_count": 20,
   "metadata": {},
   "outputs": [
    {
     "name": "stdout",
     "output_type": "stream",
     "text": [
      "0\n"
     ]
    }
   ],
   "source": [
    "def get_first_int(values, key, default=0):\n",
    "    found = values.get(key, [''])\n",
    "    if found[0]:\n",
    "        found = int(found[0])\n",
    "    else:\n",
    "        found = default\n",
    "    return found\n",
    "\n",
    "print(my_values.get('blue', [''])[0] or 0)"
   ]
  },
  {
   "cell_type": "markdown",
   "metadata": {},
   "source": [
    "# Item 5: Know How to Slice Sequences"
   ]
  },
  {
   "cell_type": "code",
   "execution_count": null,
   "metadata": {},
   "outputs": [],
   "source": []
  }
 ],
 "metadata": {
  "kernelspec": {
   "display_name": "Python 3",
   "language": "python",
   "name": "python3"
  },
  "language_info": {
   "codemirror_mode": {
    "name": "ipython",
    "version": 3
   },
   "file_extension": ".py",
   "mimetype": "text/x-python",
   "name": "python",
   "nbconvert_exporter": "python",
   "pygments_lexer": "ipython3",
   "version": "3.6.5"
  }
 },
 "nbformat": 4,
 "nbformat_minor": 2
}
